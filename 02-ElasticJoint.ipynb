{
 "cells": [
  {
   "cell_type": "markdown",
   "id": "included-constitution",
   "metadata": {},
   "source": [
    "# Deformation of an elastic joint\n",
    "\n",
    "We solve here numerically with the finite element method the example of the elastic joint of the TD 3 on the energy methods and the variational approximations."
   ]
  },
  {
   "cell_type": "code",
   "execution_count": 1,
   "id": "progressive-invite",
   "metadata": {},
   "outputs": [],
   "source": [
    "# Import required libraries\n",
    "import matplotlib.pyplot as plt\n",
    "import numpy as np\n",
    "import dolfinx\n",
    "import ufl\n",
    "\n",
    "from mpi4py import MPI\n",
    "from petsc4py import PETSc\n",
    "from petsc4py.PETSc import ScalarType\n"
   ]
  },
  {
   "cell_type": "markdown",
   "id": "handled-making",
   "metadata": {},
   "source": [
    "# Mesh\n",
    "Let us generate a simple mesh. More complex and realistic meshes can be generated with [gmsh](http://gmsh.info/.)\n"
   ]
  },
  {
   "cell_type": "code",
   "execution_count": 11,
   "id": "e4241e1b",
   "metadata": {},
   "outputs": [
    {
     "name": "stdout",
     "output_type": "stream",
     "text": [
      "Info    : Meshing 1D...\n",
      "Info    : [  0%] Meshing curve 1 (Line)\n",
      "Info    : [ 30%] Meshing curve 2 (Line)\n",
      "Info    : [ 50%] Meshing curve 3 (Line)\n",
      "Info    : [ 80%] Meshing curve 4 (Line)\n",
      "Info    : Done meshing 1D (Wall 0.000258417s, CPU 0.000387s)\n",
      "Info    : Meshing 2D...\n",
      "Info    : Meshing surface 1 (Plane, Delaunay)\n",
      "Info    : Done meshing 2D (Wall 0.281889s, CPU 0.27822s)\n",
      "Info    : 13389 nodes 26780 elements\n",
      "We have a 2-d mesh with 1-d boundary\n"
     ]
    }
   ],
   "source": [
    "L = 1.\n",
    "W = 1.\n",
    "nu = .3\n",
    "E = 1.\n",
    "lambda_ = nu * E / ((1-2*nu) * (1+nu))\n",
    "mu = E/(2*(1+nu))\n",
    "u_d = -1.\n",
    "\n",
    "ndiv = 15\n",
    "import gmsh\n",
    "from dolfinx.io import gmshio\n",
    "from mpi4py import MPI\n",
    "\n",
    "gmsh.initialize()\n",
    "gdim = 2\n",
    "gmsh.option.setNumber(\"Mesh.CharacteristicLengthMin\",0.01)\n",
    "gmsh.option.setNumber(\"Mesh.CharacteristicLengthMax\",0.01)\n",
    "rect = gmsh.model.occ.addRectangle(0, 0, 0, L, W)\n",
    "gmsh.model.occ.synchronize()\n",
    "gmsh.option.setNumber(\"Mesh.Algorithm\", 5)\n",
    "gmsh.model.addPhysicalGroup(gdim, [rect], 1)\n",
    "gmsh.model.mesh.generate(gdim)\n",
    "domain, cell_markers, facet_markers = gmshio.model_to_mesh(gmsh.model, MPI.COMM_WORLD, 0, gdim=gdim)\n",
    "#domain = dolfinx.mesh.create_rectangle(MPI.COMM_WORLD, [np.array([0,0]), np.array([L, W])],\n",
    "#                  [int(L/W)*ndiv,ndiv], cell_type=dolfinx.mesh.CellType.triangle)\n",
    "gmsh.finalize()\n",
    "domain_dimension = domain.topology.dim\n",
    "facet_dimension = domain.topology.dim - 1\n",
    "print(f\"We have a {domain_dimension}-d mesh with {facet_dimension}-d boundary\")\n",
    "\n",
    "V = dolfinx.fem.VectorFunctionSpace(domain, (\"Lagrange\", 1))\n",
    "\n",
    "def left(x):\n",
    "    return np.isclose(x[0], 0.0)\n",
    "\n",
    "left_facets = dolfinx.mesh.locate_entities_boundary(domain, facet_dimension, left)\n",
    "left_dofs = dolfinx.fem.locate_dofs_topological(V, facet_dimension, left_facets)\n",
    "bc_value_left = np.array([0,0],dtype=ScalarType)\n",
    "bc_left = dolfinx.fem.dirichletbc(bc_value_left, left_dofs, V)\n",
    "\n",
    "def right(x):\n",
    "    return np.isclose(x[0], L)\n",
    "right_facets = dolfinx.mesh.locate_entities_boundary(domain, facet_dimension, right)\n",
    "right_dofs = dolfinx.fem.locate_dofs_topological(V, facet_dimension, right_facets)\n",
    "bc_value_right = np.array([u_d,0],dtype=ScalarType)\n",
    "bc_right = dolfinx.fem.dirichletbc(bc_value_right, right_dofs, V)\n",
    "bcs = [bc_left, bc_right]\n",
    "\n",
    "mt = dolfinx.mesh.meshtags(domain, facet_dimension, right_facets, 1)\n",
    "ds = ufl.Measure(\"ds\", subdomain_data=mt, domain=domain)\n",
    "dx = ufl.Measure(\"dx\", domain=domain)\n",
    "\n",
    "u = ufl.TrialFunction(V)\n",
    "v = ufl.TestFunction(V)\n",
    "\n",
    "x = ufl.SpatialCoordinate(domain)\n",
    "\n",
    "def eps(u):\n",
    "    return ufl.sym(ufl.grad(u))\n",
    "    \n",
    "def sigma(eps):\n",
    "    return lambda_ * ufl.tr(eps) * ufl.Identity(2) + 2 * mu * eps\n",
    "\n",
    "def a(u,v):\n",
    "    \"\"\"The bilinear form of the weak formulation\"\"\"\n",
    "    return ufl.inner(sigma(eps(u)), eps(v)) * dx\n",
    "\n",
    "def L(v): \n",
    "    \"\"\"The linear form of the weak formulation\"\"\"\n",
    "    # Volume force\n",
    "    b = dolfinx.fem.Constant(domain,ScalarType((0, 0)))\n",
    "\n",
    "    # Surface force on the top\n",
    "    f = ufl.as_vector([0, 0])\n",
    "    #return ufl.dot(b, v) * dx + ufl.dot(f, v) * ds(1)    \n",
    "    return ufl.inner(b, v) * dx + ufl.dot(f, v) * ds\n",
    "\n",
    "problem = dolfinx.fem.petsc.LinearProblem(a(u,v), L(v), bcs=bcs, \n",
    "                                    petsc_options={\"ksp_type\": \"gmres\", \"pc_type\": \"gamg\"})\n",
    "uh = problem.solve()\n",
    "uh.name = \"displacement\"\n"
   ]
  },
  {
   "cell_type": "markdown",
   "id": "c37e5794",
   "metadata": {},
   "source": [
    "We define below the bilinear and linear form needed for the variational formulation"
   ]
  },
  {
   "cell_type": "code",
   "execution_count": 44,
   "id": "documented-owner",
   "metadata": {},
   "outputs": [],
   "source": []
  },
  {
   "cell_type": "markdown",
   "id": "crude-tennis",
   "metadata": {},
   "source": [
    "## Define the linear problem and solve\n"
   ]
  },
  {
   "cell_type": "code",
   "execution_count": 81,
   "id": "established-latitude",
   "metadata": {},
   "outputs": [],
   "source": []
  },
  {
   "cell_type": "markdown",
   "id": "subjective-preparation",
   "metadata": {},
   "source": [
    "## Postprocessing"
   ]
  },
  {
   "cell_type": "markdown",
   "id": "moved-world",
   "metadata": {},
   "source": [
    "We can easily calculate the potential energy"
   ]
  },
  {
   "cell_type": "code",
   "execution_count": 12,
   "id": "narrative-connecticut",
   "metadata": {},
   "outputs": [
    {
     "name": "stdout",
     "output_type": "stream",
     "text": [
      "The elastic energy energy is 5.781e-03\n",
      "The external work is 0.000e+00\n"
     ]
    }
   ],
   "source": [
    "\n",
    "elastic_energy = dolfinx.fem.assemble_scalar(dolfinx.fem.form(0.5 * a(uh, uh)))\n",
    "print(f\"The elastic energy energy is {elastic_energy:2.3e}\")\n",
    "\n",
    "external_work= dolfinx.fem.assemble_scalar(dolfinx.fem.form(L(uh)))\n",
    "print(f\"The external work is {external_work:2.3e}\")"
   ]
  },
  {
   "cell_type": "markdown",
   "id": "outside-houston",
   "metadata": {},
   "source": [
    "We can save the results to a file, that we can open with `paraview` (https://www.paraview.org/)"
   ]
  },
  {
   "cell_type": "code",
   "execution_count": 13,
   "id": "announced-example",
   "metadata": {},
   "outputs": [],
   "source": [
    "with dolfinx.io.XDMFFile(MPI.COMM_WORLD, \"output/elasticity-demo.xdmf\", \"w\") as file:\n",
    "    file.write_mesh(uh.function_space.mesh)\n",
    "    file.write_function(uh)"
   ]
  },
  {
   "cell_type": "markdown",
   "id": "incorporated-brain",
   "metadata": {},
   "source": [
    "Let us plot the solution using `pyvista`, see\n",
    "- https://jorgensd.github.io/dolfinx-tutorial/chapter3/component_bc.html\n",
    "- https://docs.fenicsproject.org/dolfinx/v0.5.0/python/demos/demo_pyvista.html"
   ]
  },
  {
   "cell_type": "code",
   "execution_count": 30,
   "id": "11593b65",
   "metadata": {},
   "outputs": [
    {
     "data": {
      "application/vnd.jupyter.widget-view+json": {
       "model_id": "de5a92a5a9b44ec1b92393da8f76deb2",
       "version_major": 2,
       "version_minor": 0
      },
      "text/plain": [
       "Renderer(camera=PerspectiveCamera(aspect=1.3333333333333333, children=(DirectionalLight(intensity=0.25, positi…"
      ]
     },
     "metadata": {},
     "output_type": "display_data"
    }
   ],
   "source": [
    "import pyvista\n",
    "pyvista.set_jupyter_backend(\"pythreejs\") #\n",
    "\n",
    "# Create plotter and pyvista grid\n",
    "p = pyvista.Plotter()\n",
    "topology, cell_types, geometry = dolfinx.plot.create_vtk_mesh(V)\n",
    "grid = pyvista.UnstructuredGrid(topology, cell_types, geometry)\n",
    "actor_0 = p.add_mesh(grid, style=\"surface\", color=\"white\",opacity=0.2,)\n",
    "# Attach vector values to grid and warp grid by vector\n",
    "values = np.zeros((geometry.shape[0], 3))\n",
    "values[:, :len(uh)] = uh.x.array.reshape(geometry.shape[0], len(uh))\n",
    "grid[\"u\"] = values\n",
    "#actor_0 = p.add_mesh(grid, style=\"surface\", color=\"gray\",opacity=0.9)\n",
    "warped = grid.warp_by_vector(\"u\", factor=0.3)\n",
    "actor_1 = p.add_mesh(warped, show_edges=True,show_scalar_bar=True)\n",
    "p.show_axes()\n",
    "p.view_xy()\n",
    "p.show()"
   ]
  },
  {
   "cell_type": "markdown",
   "id": "b22b1794",
   "metadata": {},
   "source": [
    "## Stress computation\n",
    "\n",
    "We calculate here the Von Mises stress by interpolating the corresponding ufl expression, see https://jorgensd.github.io/dolfinx-tutorial/chapter2/linearelasticity_code.html#stress-computation"
   ]
  },
  {
   "cell_type": "code",
   "execution_count": 87,
   "id": "780e0397",
   "metadata": {},
   "outputs": [],
   "source": [
    "stress = sigma(eps(uh))"
   ]
  },
  {
   "cell_type": "code",
   "execution_count": 90,
   "id": "b49560f6",
   "metadata": {},
   "outputs": [
    {
     "data": {
      "image/png": "[encoded data removed]",
      "text/plain": [
       "<PIL.Image.Image image mode=RGB size=1024x768>"
      ]
     },
     "metadata": {},
     "output_type": "display_data"
    }
   ],
   "source": [
    "\n",
    "V_stress_scalar = dolfinx.fem.FunctionSpace(domain, (\"DG\", 0))\n",
    "stress_xx_expr = dolfinx.fem.Expression(stress[0,0], V_stress_scalar.element.interpolation_points())\n",
    "stress_xx_function = dolfinx.fem.Function(V_stress_scalar,name=\"sigmaxx\")\n",
    "stress_xx_function.interpolate(stress_xx_expr)\n",
    "\n",
    "\n",
    "pyvista.set_jupyter_backend(\"none\")\n",
    "warped.cell_data[\"VonMises\"] = stress_xx_function.vector.array\n",
    "warped.set_active_scalars(\"VonMises\")\n",
    "p = pyvista.Plotter()\n",
    "p.add_mesh(warped)\n",
    "p.show_axes()\n",
    "p.view_xy()\n",
    "p.show()"
   ]
  },
  {
   "cell_type": "markdown",
   "id": "02fb3cc2",
   "metadata": {},
   "source": [
    "**Exercise.** \n",
    "Let be $u^{*}$ and $P^{*}$ the displacement field obtained on a domain $\\Omega^*=[0,1]\\times[0,W/L]\\times[0,W/L]$ for a Young module $E=1$ and a load $f=1$ applied at the right end. \n",
    "Determine by dimensional analysis the analytical formulas giving the \n",
    "displacement $u$ and the potential energy $P$ for any values of  $E$,  load $f$, and for any domain obtained by a rescaling of $\\Omega^*$ with a length-scale $L_0$.\n"
   ]
  },
  {
   "cell_type": "markdown",
   "id": "3d65be39",
   "metadata": {},
   "source": []
  }
 ],
 "metadata": {
  "kernelspec": {
   "display_name": "Python 3 (ipykernel)",
   "language": "python",
   "name": "python3"
  },
  "language_info": {
   "codemirror_mode": {
    "name": "ipython",
    "version": 3
   },
   "file_extension": ".py",
   "mimetype": "text/x-python",
   "name": "python",
   "nbconvert_exporter": "python",
   "pygments_lexer": "ipython3",
   "version": "3.10.6"
  },
  "vscode": {
   "interpreter": {
    "hash": "d39b9f02f3029832ecae234ec2fa182456444dbf6b139312bec596c8a27da32a"
   }
  }
 },
 "nbformat": 4,
 "nbformat_minor": 5
}
