{
 "cells": [
  {
   "cell_type": "markdown",
   "id": "included-constitution",
   "metadata": {},
   "source": [
    "# Linear Elasticity: bending of an orthotropic beam\n",
    "\n",
    "This notebook serves as a example of the use of variational formulations in elasticity. \n",
    "\n",
    "We implement a finite element solver for orthotropic 3d beam.\n",
    "\n",
    "This tutorial is based on the use of `FEniCS/dolfinx`, an open-source finite-element library with a python interface.\n",
    "\n",
    "You can find a tutorial and useful resources for DOLFINx at the following links\n",
    "\n",
    "- https://docs.fenicsproject.org/\n",
    "- https://github.com/FEniCS/dolfinx/\n",
    "- https://jorgensd.github.io/dolfinx-tutorial/, see https://jorgensd.github.io/dolfinx-tutorial/chapter2/linearelasticity.html for linear elasticity\n",
    "\n",
    "\n",
    "FEniCSX is advanced library that allows for efficient parallel computation. For the sake of simplicity, we assume here to work on a single processor and will not use MPI-related commands. "
   ]
  },
  {
   "cell_type": "code",
   "execution_count": 1,
   "id": "progressive-invite",
   "metadata": {},
   "outputs": [],
   "source": [
    "# Import required libraries\n",
    "import matplotlib.pyplot as plt\n",
    "import numpy as np\n",
    "import dolfinx\n",
    "import ufl\n",
    "\n",
    "from mpi4py import MPI\n",
    "from petsc4py import PETSc\n",
    "from petsc4py.PETSc import ScalarType\n"
   ]
  },
  {
   "cell_type": "markdown",
   "id": "handled-making",
   "metadata": {},
   "source": [
    "# Mesh\n",
    "Let us generate a simple mesh. More complex and realistic meshes can be generated with [gmsh](http://gmsh.info/.)\n"
   ]
  },
  {
   "cell_type": "code",
   "execution_count": 24,
   "id": "e4241e1b",
   "metadata": {},
   "outputs": [
    {
     "name": "stdout",
     "output_type": "stream",
     "text": [
      "We have a 3-d mesh with 2-d boundary\n"
     ]
    }
   ],
   "source": [
    "L = 1.\n",
    "W = 0.2\n",
    "\n",
    "refinement = 10\n",
    "domain = dolfinx.mesh.create_box(MPI.COMM_WORLD, [np.array([0,0,0]), np.array([L, W, W])],\n",
    "                  [10*refinement,3*refinement,3*refinement], cell_type=dolfinx.mesh.CellType.hexahedron)\n",
    "\n",
    "domain_dimension = domain.topology.dim\n",
    "facet_dimension = domain.topology.dim - 1\n",
    "print(f\"We have a {domain_dimension}-d mesh with {facet_dimension}-d boundary\")"
   ]
  },
  {
   "cell_type": "markdown",
   "id": "magnetic-slovak",
   "metadata": {},
   "source": [
    "To plot the mesh we use `pyvista` see:\n",
    "- https://jorgensd.github.io/dolfinx-tutorial/chapter3/component_bc.html\n",
    "- https://docs.fenicsproject.org/dolfinx/main/python/demos/pyvista/demo_pyvista.py.html"
   ]
  },
  {
   "cell_type": "code",
   "execution_count": 25,
   "id": "peripheral-stretch",
   "metadata": {},
   "outputs": [
    {
     "data": {
      "application/vnd.jupyter.widget-view+json": {
       "model_id": "04db635a8f964af6b02b3e325087e097",
       "version_major": 2,
       "version_minor": 0
      },
      "text/plain": [
       "Renderer(camera=PerspectiveCamera(aspect=1.3333333333333333, children=(DirectionalLight(intensity=0.25, positi…"
      ]
     },
     "metadata": {},
     "output_type": "display_data"
    }
   ],
   "source": [
    "import pyvista\n",
    "pyvista.set_jupyter_backend(\"pythreejs\")\n",
    "\n",
    "grid = pyvista.UnstructuredGrid(*dolfinx.plot.create_vtk_mesh(domain))\n",
    "plotter = pyvista.Plotter()\n",
    "plotter.add_mesh(grid, show_edges=True)\n",
    "plotter.show_axes()\n",
    "plotter.show()"
   ]
  },
  {
   "cell_type": "markdown",
   "id": "wrapped-yellow",
   "metadata": {},
   "source": [
    "## Finite element function space\n",
    "\n",
    "We use here linear Lagrange triangle elements"
   ]
  },
  {
   "cell_type": "code",
   "execution_count": 26,
   "id": "owned-alarm",
   "metadata": {},
   "outputs": [],
   "source": [
    "V = dolfinx.fem.VectorFunctionSpace(domain, (\"Lagrange\", 1))"
   ]
  },
  {
   "cell_type": "markdown",
   "id": "returning-cricket",
   "metadata": {},
   "source": [
    "## Dirichlet boundary conditions\n",
    "\n",
    "We define below the functions to impose the Dirichlet boundary conditions.\n",
    "\n",
    "In our case we want to block the displacement at the left-end\n",
    "\n",
    "We first get the facets to block on the boundary (`dolfinx.mesh.locate_entities_boundary`) and then the corresponding dofs (`dolfinx.fem.locate_dofs_topological`). The following lines define the `dolfinx.fem.dirichletbc` objects. We impose a zero displacement."
   ]
  },
  {
   "cell_type": "code",
   "execution_count": 27,
   "id": "4abb7438-b5db-49cb-93b1-2a8628f02918",
   "metadata": {},
   "outputs": [],
   "source": [
    "def left(x):\n",
    "    return np.isclose(x[0], 0.0)\n",
    "left_facets = dolfinx.mesh.locate_entities_boundary(domain, facet_dimension, left)\n",
    "left_dofs = dolfinx.fem.locate_dofs_topological(V, facet_dimension, left_facets)\n",
    "bc_value = np.array([0,0,0],dtype=ScalarType)\n",
    "bc_left = dolfinx.fem.dirichletbc(bc_value, left_dofs, V)\n",
    "bcs = [bc_left]\n"
   ]
  },
  {
   "cell_type": "markdown",
   "id": "sitting-sleep",
   "metadata": {},
   "source": [
    "## Define the variational problem \n",
    "\n",
    "We specify the problem to solve though the weak formulation written in the [ufl](https://fenics.readthedocs.io/projects/ufl/en/latest/) syntax by giving the bilinear $a(u,v)$ and linear forms $L(v)$ in \n",
    "the weak formulation: \n",
    "\n",
    "find the *trial function* $u$ such that for all *test function* $v$\n",
    "$$a(u,v)=L(v)$$ \n",
    "with \n",
    "$$\n",
    "a(u,v)=\\int_{\\Omega\\setminus\\Gamma}\\sigma(\\varepsilon(u))\\cdot \\varepsilon(v)\\,\\mathrm{d}x, \n",
    "\\quad L(v)=\\int_\\Omega b\\cdot v \\,\\mathrm{d}x + \\int_{\\partial_N\\Omega} f\\cdot v \\,\\mathrm{d}s \n",
    "$$"
   ]
  },
  {
   "cell_type": "markdown",
   "id": "lovely-parker",
   "metadata": {},
   "source": [
    "**Define the bulk and surface mesures.** \n",
    "The bulk (`dx`) and surface (`ds`) measures are used by `ufl` to write variational form with integral over the domain or the boundary, respectively. In this example the surface measure `ds` includes tags to specify Neumann bcs: `ds(1)` will mean the integral on the right boundary. We need it to impose the force "
   ]
  },
  {
   "cell_type": "code",
   "execution_count": 28,
   "id": "artificial-vinyl",
   "metadata": {},
   "outputs": [],
   "source": [
    "dx = ufl.Measure(\"dx\", domain=domain)\n",
    "\n",
    "def right(x):\n",
    "    return np.isclose(x[0],1)\n",
    "right_facets = dolfinx.mesh.locate_entities_boundary(domain, facet_dimension, right)\n",
    "mt = dolfinx.mesh.meshtags(domain, facet_dimension, right_facets, 1)\n",
    "ds = ufl.Measure(\"ds\", subdomain_data=mt, domain=domain)"
   ]
  },
  {
   "cell_type": "markdown",
   "id": "rural-childhood",
   "metadata": {},
   "source": [
    "Note on UFL terminology:\n",
    "- `ufl.inner(sigma(eps(u)), eps(v))` is an expression\n",
    "- `ufl.inner(sigma(eps(u)), eps(v)) * dx` is a form, an integral on a domain"
   ]
  },
  {
   "cell_type": "markdown",
   "id": "59723b6b",
   "metadata": {},
   "source": [
    "We use the Voigt notation to represent the orthotropic behaviour\n",
    "\n",
    "$$  [\\mathsf{S}] = \n",
    "  \\begin{bmatrix}\n",
    "    \\tfrac{1}{E_{\\rm 1}} & - \\tfrac{\\nu_{\\rm 12}}{E_{\\rm 1}} & - \\tfrac{\\nu_{\\rm 13}}{E_{\\rm 1}} & 0 & 0 & 0 \\\\\n",
    "    -\\tfrac{\\nu_{\\rm 21}}{E_{\\rm 2}} & \\tfrac{1}{E_{\\rm 2}} & - \\tfrac{\\nu_{\\rm 23}}{E_{\\rm 2}} & 0 & 0 & 0 \\\\\n",
    "    -\\tfrac{\\nu_{\\rm 31}}{E_{\\rm 3}} & - \\tfrac{\\nu_{\\rm 32}}{E_{\\rm 3}} & \\tfrac{1}{E_{\\rm 3}} & 0 & 0 & 0 \\\\\n",
    "    0 & 0 & 0 & \\tfrac{1}{G_{\\rm 23}} & 0 & 0 \\\\\n",
    "    0 & 0 & 0 & 0 & \\tfrac{1}{G_{\\rm 31}} & 0 \\\\\n",
    "    0 & 0 & 0 & 0 & 0 & \\tfrac{1}{G_{\\rm 12}} \\\\\n",
    "    \\end{bmatrix}\n",
    "    \\qquad\n",
    "    \\begin{bmatrix} \\varepsilon_1 \\\\ \\varepsilon_2 \\\\ \\varepsilon_3 \\\\ \\varepsilon_4 \\\\ \\varepsilon_5  \\\\ \\varepsilon_6\\end{bmatrix},\n",
    "    \\qquad\n",
    "[\\varepsilon]=\n",
    "\\begin{bmatrix}\\varepsilon_{11} \\\\ \\varepsilon_{22} \\\\ \\varepsilon_{33} \\\\ 2\\varepsilon_{23} \\\\ 2\\varepsilon_{13} \\\\ 2\\varepsilon_{12} \\end{bmatrix}\n",
    "\\qquad\n",
    "[\\sigma]=\n",
    "\\begin{bmatrix} \\sigma_1 \\\\ \\sigma_2 \\\\ \\sigma_3 \\\\ \\sigma_4 \\\\ \\sigma_5  \\\\ \\sigma_6\\end{bmatrix}\n",
    "=\n",
    "\\begin{bmatrix}\\sigma_{11} \\\\ \\sigma_{22} \\\\ \\sigma_{33} \\\\ \\sigma_{23} \\\\ \\sigma_{13} \\\\ \\sigma_{12} \\end{bmatrix}\\\\\n",
    "$$\n",
    "$$\n",
    "[\\sigma]=[\\mathsf{C}][\\varepsilon],\n",
    "\\qquad\n",
    "\\underline{\\underline{\\sigma}}:\\underline{\\underline{\\varepsilon}}=[\\sigma].[\\varepsilon],\\qquad, [\\mathsf{C}]=[\\mathsf{S}]^{-1}\n",
    "$$"
   ]
  },
  {
   "cell_type": "code",
   "execution_count": 29,
   "id": "0fdd712d",
   "metadata": {},
   "outputs": [],
   "source": [
    "E0 = 10000\n",
    "Ex = 1.\n",
    "Ey = 858./E0\n",
    "Ez = 456./E0\n",
    "nuxy = 0.34\n",
    "nuxz = 0.42\n",
    "nuyz = 0.29\n",
    "Gyz = 155./E0\n",
    "Gxz = 538./E0\n",
    "Gxy = 786./E0\n",
    "\n",
    "S_voigt_np = np.array([[1./Ex,- nuxy/Ex,-nuyz/Ey,0,0,0],\n",
    "                         [-nuxy/Ex, 1./Ey,1./Ez,0,0,0],\n",
    "                         [-nuxz/Ex,-nuyz/Ey,1/Ez,0,0,0],\n",
    "                         [0,0,0,1./Gyz,0,0],\n",
    "                         [0,0,0,0,1./Gxz,0],\n",
    "                         [0,0,0,0,0,1./Gxy]])\n",
    "\n",
    "C_voigt_np = np.linalg.inv(S_voigt_np)\n",
    "\n",
    "\n",
    "def eps_voigt(u):\n",
    "    return ufl.as_vector([u[0].dx(0), #uxx\n",
    "                          u[1].dx(1), #uyy\n",
    "                          u[2].dx(2), #zz\n",
    "                          u[2].dx(1)+u[1].dx(2), #uyz+uzy\n",
    "                          u[0].dx(2)+u[2].dx(0),\n",
    "                          u[1].dx(0)+u[0].dx(1)])\n",
    "    \n",
    "def sigma_voigt(eps):\n",
    "    C_voigt = ufl.as_matrix(C_voigt_np) \n",
    "    # Uncomment the line below to show the example of a beam made of two layers\n",
    "    # C_voigt = ufl.conditional(x[1] > W/3, ufl.as_matrix(C_voigt_np), 10 * ufl.as_matrix(C_voigt_np))\n",
    "    return C_voigt * eps"
   ]
  },
  {
   "cell_type": "markdown",
   "id": "c37e5794",
   "metadata": {},
   "source": [
    "We define below the bilinear and linear form needed for the variational formulation"
   ]
  },
  {
   "cell_type": "code",
   "execution_count": 30,
   "id": "documented-owner",
   "metadata": {},
   "outputs": [],
   "source": [
    "u = ufl.TrialFunction(V)\n",
    "v = ufl.TestFunction(V)\n",
    "\n",
    "x = ufl.SpatialCoordinate(domain)\n",
    "C = 0.1\n",
    "\n",
    "\n",
    "def a(u,v):\n",
    "    \"\"\"The bilinear form of the weak formulation\"\"\"\n",
    "    return ufl.inner(sigma_voigt(eps_voigt(u)), eps_voigt(v)) * dx\n",
    "\n",
    "def L(v): \n",
    "    \"\"\"The linear form of the weak formulation\"\"\"\n",
    "    # Volume force\n",
    "    b = dolfinx.fem.Constant(domain,ScalarType((0, 0, 0)))\n",
    "\n",
    "    # Surface force on the top\n",
    "    f = ufl.as_vector([- C * x[1], 0, 0])\n",
    "    #return ufl.dot(b, v) * dx + ufl.dot(f, v) * ds(1)    \n",
    "    return ufl.inner(b, v) * dx + ufl.dot(f, v) * ds"
   ]
  },
  {
   "cell_type": "markdown",
   "id": "crude-tennis",
   "metadata": {},
   "source": [
    "## Define the linear problem and solve\n",
    "We solve the problem using a direct solver. The class `dolfinx.fem.LinearProblem` assemble the stiffness matrix and load vector, apply the boundary conditions, and solve the linear system."
   ]
  },
  {
   "cell_type": "code",
   "execution_count": 31,
   "id": "established-latitude",
   "metadata": {},
   "outputs": [],
   "source": [
    "problem = dolfinx.fem.petsc.LinearProblem(a(u,v), L(v), bcs=bcs, \n",
    "                                    petsc_options={\"ksp_type\": \"gmres\", \"pc_type\": \"gamg\"})\n",
    "uh = problem.solve()\n",
    "uh.name = \"displacement\""
   ]
  },
  {
   "cell_type": "markdown",
   "id": "subjective-preparation",
   "metadata": {},
   "source": [
    "## Postprocessing"
   ]
  },
  {
   "cell_type": "markdown",
   "id": "moved-world",
   "metadata": {},
   "source": [
    "We can easily calculate the potential energy"
   ]
  },
  {
   "cell_type": "code",
   "execution_count": 32,
   "id": "narrative-connecticut",
   "metadata": {},
   "outputs": [
    {
     "name": "stdout",
     "output_type": "stream",
     "text": [
      "The potential energy is -6.168e-04\n"
     ]
    }
   ],
   "source": [
    "energy = dolfinx.fem.assemble_scalar(dolfinx.fem.form(0.5 * a(uh, uh) - L(uh)))\n",
    "print(f\"The potential energy is {energy:2.3e}\")"
   ]
  },
  {
   "cell_type": "markdown",
   "id": "outside-houston",
   "metadata": {},
   "source": [
    "We can save the results to a file, that we can open with `paraview` (https://www.paraview.org/)"
   ]
  },
  {
   "cell_type": "code",
   "execution_count": 33,
   "id": "announced-example",
   "metadata": {},
   "outputs": [],
   "source": [
    "with dolfinx.io.XDMFFile(MPI.COMM_WORLD, \"output/elasticity-demo.xdmf\", \"w\") as file:\n",
    "    file.write_mesh(uh.function_space.mesh)\n",
    "    file.write_function(uh)"
   ]
  },
  {
   "cell_type": "markdown",
   "id": "incorporated-brain",
   "metadata": {},
   "source": [
    "Let us plot the solution using `pyvista`, see\n",
    "- https://jorgensd.github.io/dolfinx-tutorial/chapter3/component_bc.html\n",
    "- https://docs.fenicsproject.org/dolfinx/v0.5.0/python/demos/demo_pyvista.html"
   ]
  },
  {
   "cell_type": "code",
   "execution_count": 34,
   "id": "11593b65",
   "metadata": {},
   "outputs": [
    {
     "data": {
      "application/vnd.jupyter.widget-view+json": {
       "model_id": "920541ad40c948e3853c65d3eb5c4ecd",
       "version_major": 2,
       "version_minor": 0
      },
      "text/plain": [
       "Renderer(camera=PerspectiveCamera(aspect=1.3333333333333333, children=(DirectionalLight(intensity=0.25, positi…"
      ]
     },
     "metadata": {},
     "output_type": "display_data"
    }
   ],
   "source": [
    "import pyvista\n",
    "pyvista.set_jupyter_backend(\"pythreejs\") #\n",
    "\n",
    "# Create plotter and pyvista grid\n",
    "p = pyvista.Plotter()\n",
    "topology, cell_types, geometry = dolfinx.plot.create_vtk_mesh(V)\n",
    "grid = pyvista.UnstructuredGrid(topology, cell_types, geometry)\n",
    "\n",
    "# Attach vector values to grid and warp grid by vector\n",
    "grid[\"u\"] = uh.x.array.reshape((geometry.shape[0], 3))\n",
    "actor_0 = p.add_mesh(grid, style=\"wireframe\", color=\"k\")\n",
    "warped = grid.warp_by_vector(\"u\", factor=.1)\n",
    "actor_1 = p.add_mesh(warped, show_edges=True,show_scalar_bar=True)\n",
    "p.show_axes()\n",
    "p.show()"
   ]
  },
  {
   "cell_type": "markdown",
   "id": "b22b1794",
   "metadata": {},
   "source": [
    "## Stress computation\n",
    "\n",
    "We calculate here the Von Mises stress by interpolating the corresponding ufl expression, see https://jorgensd.github.io/dolfinx-tutorial/chapter2/linearelasticity_code.html#stress-computation"
   ]
  },
  {
   "cell_type": "code",
   "execution_count": 35,
   "id": "780e0397",
   "metadata": {},
   "outputs": [],
   "source": [
    "stress = sigma_voigt(eps_voigt(uh)) \n",
    "\n",
    "V_stress = dolfinx.fem.VectorFunctionSpace(domain, (\"DG\", 0), dim=6)\n",
    "stress_expr = dolfinx.fem.Expression(stress, V_stress.element.interpolation_points())\n",
    "stress_function = dolfinx.fem.Function(V_stress,name=\"sigma\")\n",
    "stress_function.interpolate(stress_expr)    \n",
    "\n",
    "with dolfinx.io.XDMFFile(MPI.COMM_WORLD, \"output/elasticity-demo-stress.xdmf\", \"w\") as file:\n",
    "    file.write_mesh(domain)    \n",
    "    file.write_function(stress_function)"
   ]
  },
  {
   "cell_type": "code",
   "execution_count": 36,
   "id": "b49560f6",
   "metadata": {},
   "outputs": [
    {
     "data": {
      "application/vnd.jupyter.widget-view+json": {
       "model_id": "18f980f5285a47b6826a34786529774d",
       "version_major": 2,
       "version_minor": 0
      },
      "text/plain": [
       "Renderer(camera=PerspectiveCamera(aspect=1.3333333333333333, children=(DirectionalLight(intensity=0.25, positi…"
      ]
     },
     "metadata": {},
     "output_type": "display_data"
    }
   ],
   "source": [
    "\n",
    "V_stress_scalar = dolfinx.fem.FunctionSpace(domain, (\"DG\", 0))\n",
    "stress_xx_expr = dolfinx.fem.Expression(stress[0], V_stress_scalar.element.interpolation_points())\n",
    "stress_xx_function = dolfinx.fem.Function(V_stress_scalar,name=\"sigmaxx\")\n",
    "stress_xx_function.interpolate(stress_xx_expr)\n",
    "\n",
    "\n",
    "pyvista.set_jupyter_backend(\"pythreejs\")\n",
    "warped.cell_data[\"VonMises\"] = stress_xx_function.vector.array\n",
    "warped.set_active_scalars(\"VonMises\")\n",
    "p = pyvista.Plotter()\n",
    "p.add_mesh(warped)\n",
    "p.show_axes()\n",
    "p.show()"
   ]
  },
  {
   "cell_type": "markdown",
   "id": "02fb3cc2",
   "metadata": {},
   "source": [
    "**Exercise.** \n",
    "Let be $u^{*}$ and $P^{*}$ the displacement field obtained on a domain $\\Omega^*=[0,1]\\times[0,W/L]\\times[0,W/L]$ for a Young module $E=1$ and a load $f=1$ applied at the right end. \n",
    "Determine by dimensional analysis the analytical formulas giving the \n",
    "displacement $u$ and the potential energy $P$ for any values of  $E$,  load $f$, and for any domain obtained by a rescaling of $\\Omega^*$ with a length-scale $L_0$.\n"
   ]
  },
  {
   "cell_type": "markdown",
   "id": "3d65be39",
   "metadata": {},
   "source": []
  }
 ],
 "metadata": {
  "kernelspec": {
   "display_name": "Python 3 (ipykernel)",
   "language": "python",
   "name": "python3"
  },
  "language_info": {
   "codemirror_mode": {
    "name": "ipython",
    "version": 3
   },
   "file_extension": ".py",
   "mimetype": "text/x-python",
   "name": "python",
   "nbconvert_exporter": "python",
   "pygments_lexer": "ipython3",
   "version": "3.10.6"
  },
  "vscode": {
   "interpreter": {
    "hash": "d39b9f02f3029832ecae234ec2fa182456444dbf6b139312bec596c8a27da32a"
   }
  }
 },
 "nbformat": 4,
 "nbformat_minor": 5
}
